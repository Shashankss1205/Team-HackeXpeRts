{
 "cells": [
  {
   "cell_type": "code",
   "execution_count": null,
   "metadata": {},
   "outputs": [],
   "source": [
    "!sudo apt-get install ffmpeg"
   ]
  },
  {
   "cell_type": "code",
   "execution_count": 9,
   "metadata": {},
   "outputs": [],
   "source": [
    "# !sudo apt update\n",
    "# !sudo apt install ffmpeg"
   ]
  },
  {
   "cell_type": "code",
   "execution_count": null,
   "metadata": {
    "colab": {
     "base_uri": "https://localhost:8080/"
    },
    "id": "gjcWXO7qumua",
    "outputId": "08225a95-4cbc-45ff-c074-cb65116afc43"
   },
   "outputs": [],
   "source": [
    "%pip install git+https://github.com/openai/whisper.git sentence_transformers pydub transformers tqdm"
   ]
  },
  {
   "cell_type": "code",
   "execution_count": null,
   "metadata": {
    "id": "zdyiNP5surH7"
   },
   "outputs": [],
   "source": [
    "# Based on the device present, change the comment statement. In general CUDA is preferred because of its extremely fast processing.\n",
    "device = \"cuda\"\n",
    "device = \"cpu\""
   ]
  },
  {
   "cell_type": "markdown",
   "metadata": {
    "id": "RJvn3JX1umud"
   },
   "source": [
    "# S1"
   ]
  },
  {
   "cell_type": "code",
   "execution_count": null,
   "metadata": {},
   "outputs": [
    {
     "name": "stderr",
     "output_type": "stream",
     "text": [
      "/home/zeus/miniconda3/envs/cloudspace/lib/python3.10/site-packages/pydub/utils.py:170: RuntimeWarning: Couldn't find ffmpeg or avconv - defaulting to ffmpeg, but may not work\n",
      "  warn(\"Couldn't find ffmpeg or avconv - defaulting to ffmpeg, but may not work\", RuntimeWarning)\n"
     ]
    }
   ],
   "source": [
    "import os\n",
    "import pandas as pd\n",
    "from tqdm import tqdm\n",
    "\n",
    "from pydub import AudioSegment\n",
    "import whisper\n",
    "from sentence_transformers import SentenceTransformer"
   ]
  },
  {
   "cell_type": "code",
   "execution_count": null,
   "metadata": {
    "colab": {
     "base_uri": "https://localhost:8080/"
    },
    "id": "KI155v_dumue",
    "outputId": "bdbed5b1-a048-4c57-fd0b-80316689d2a0"
   },
   "outputs": [
    {
     "name": "stderr",
     "output_type": "stream",
     "text": [
      "100%|██████████| 70/70 [08:35<00:00,  7.37s/it]\n"
     ]
    }
   ],
   "source": [
    "# Path to the dataset folder\n",
    "dataset_folder = \"./Dataset\"\n",
    "output_folder = \"./audio_chunks\"\n",
    "os.makedirs(output_folder, exist_ok=True)\n",
    "\n",
    "# Initialize a list to store the audio mapping details\n",
    "mapping = []\n",
    "counter = 0\n",
    "\n",
    "# Process each audio file in the dataset folder\n",
    "for audio_file in tqdm(os.listdir(dataset_folder)):\n",
    "    audio_no = audio_file.split('_')[1].split('.')[0]\n",
    "    if audio_file.endswith((\".mp3\", \".wav\", \".flac\")):\n",
    "        # Load the audio file\n",
    "        audio_path = os.path.join(dataset_folder, audio_file)\n",
    "        audio = AudioSegment.from_file(audio_path)\n",
    "\n",
    "        # Split into 30-second chunks\n",
    "        chunk_duration = 30 * 1000\n",
    "        num_chunks = len(audio) // chunk_duration\n",
    "\n",
    "        # Process each chunk\n",
    "        for i in range(num_chunks):\n",
    "            # Extract chunk\n",
    "            chunk = audio[i * chunk_duration:(i + 1) * chunk_duration]\n",
    "            # Define chunk path and export\n",
    "            chunk_path = os.path.join(output_folder, f\"audio_{audio_no}_chunk_{counter}.mp3\")\n",
    "            chunk.export(chunk_path, format=\"mp3\")\n",
    "\n",
    "            # Append details to mapping list\n",
    "            mapping.append({\n",
    "                \"audio_no\": audio_no,      # Original audio file number\n",
    "                \"chunk_id\": counter,       # Unique integer counter for each chunk\n",
    "                \"chunk_path\": chunk_path   # Path to the chunk file\n",
    "            })\n",
    "            counter += 1"
   ]
  },
  {
   "cell_type": "code",
   "execution_count": null,
   "metadata": {
    "colab": {
     "base_uri": "https://localhost:8080/"
    },
    "id": "05m4oyBMx165",
    "outputId": "fc25c0e0-25d4-4ed6-923c-626d1f943697"
   },
   "outputs": [
    {
     "name": "stdout",
     "output_type": "stream",
     "text": [
      "Audio chunk mapping CSV created successfully.\n"
     ]
    }
   ],
   "source": [
    "# Convert mapping to a DataFrame\n",
    "df_mapping = pd.DataFrame(mapping)\n",
    "\n",
    "# Save the DataFrame to a CSV for future reference\n",
    "df_mapping.to_csv(\"./audio_chunk_mapping.csv\", index=False)\n",
    "print(\"Audio chunk mapping CSV created successfully.\")"
   ]
  },
  {
   "cell_type": "code",
   "execution_count": null,
   "metadata": {},
   "outputs": [],
   "source": [
    "df_mapping = pd.read_csv(\"./audio_chunk_mapping.csv\")"
   ]
  },
  {
   "cell_type": "code",
   "execution_count": 5,
   "metadata": {
    "colab": {
     "base_uri": "https://localhost:8080/"
    },
    "id": "nR_J0ERu50Kq",
    "outputId": "e3c4efcd-af40-4065-c207-f736720efe9b"
   },
   "outputs": [
    {
     "data": {
      "text/plain": [
       "(1385, 3)"
      ]
     },
     "execution_count": 5,
     "metadata": {},
     "output_type": "execute_result"
    }
   ],
   "source": [
    "df_mapping.shape"
   ]
  },
  {
   "cell_type": "code",
   "execution_count": 11,
   "metadata": {
    "colab": {
     "base_uri": "https://localhost:8080/",
     "height": 206
    },
    "id": "TV902B00umuf",
    "outputId": "103a7400-ada8-4623-ec8e-a5a68e324cdb"
   },
   "outputs": [
    {
     "data": {
      "text/html": [
       "<div>\n",
       "<style scoped>\n",
       "    .dataframe tbody tr th:only-of-type {\n",
       "        vertical-align: middle;\n",
       "    }\n",
       "\n",
       "    .dataframe tbody tr th {\n",
       "        vertical-align: top;\n",
       "    }\n",
       "\n",
       "    .dataframe thead th {\n",
       "        text-align: right;\n",
       "    }\n",
       "</style>\n",
       "<table border=\"1\" class=\"dataframe\">\n",
       "  <thead>\n",
       "    <tr style=\"text-align: right;\">\n",
       "      <th></th>\n",
       "      <th>audio_no</th>\n",
       "      <th>chunk_id</th>\n",
       "      <th>chunk_path</th>\n",
       "    </tr>\n",
       "  </thead>\n",
       "  <tbody>\n",
       "    <tr>\n",
       "      <th>0</th>\n",
       "      <td>179</td>\n",
       "      <td>0</td>\n",
       "      <td>./audio_chunks/audio_179_chunk_0.mp3</td>\n",
       "    </tr>\n",
       "    <tr>\n",
       "      <th>1</th>\n",
       "      <td>179</td>\n",
       "      <td>1</td>\n",
       "      <td>./audio_chunks/audio_179_chunk_1.mp3</td>\n",
       "    </tr>\n",
       "    <tr>\n",
       "      <th>2</th>\n",
       "      <td>179</td>\n",
       "      <td>2</td>\n",
       "      <td>./audio_chunks/audio_179_chunk_2.mp3</td>\n",
       "    </tr>\n",
       "    <tr>\n",
       "      <th>3</th>\n",
       "      <td>179</td>\n",
       "      <td>3</td>\n",
       "      <td>./audio_chunks/audio_179_chunk_3.mp3</td>\n",
       "    </tr>\n",
       "    <tr>\n",
       "      <th>4</th>\n",
       "      <td>179</td>\n",
       "      <td>4</td>\n",
       "      <td>./audio_chunks/audio_179_chunk_4.mp3</td>\n",
       "    </tr>\n",
       "  </tbody>\n",
       "</table>\n",
       "</div>"
      ],
      "text/plain": [
       "   audio_no  chunk_id                            chunk_path\n",
       "0       179         0  ./audio_chunks/audio_179_chunk_0.mp3\n",
       "1       179         1  ./audio_chunks/audio_179_chunk_1.mp3\n",
       "2       179         2  ./audio_chunks/audio_179_chunk_2.mp3\n",
       "3       179         3  ./audio_chunks/audio_179_chunk_3.mp3\n",
       "4       179         4  ./audio_chunks/audio_179_chunk_4.mp3"
      ]
     },
     "execution_count": 11,
     "metadata": {},
     "output_type": "execute_result"
    }
   ],
   "source": [
    "df_mapping.head()"
   ]
  },
  {
   "cell_type": "markdown",
   "metadata": {
    "id": "ui0reTeMumug"
   },
   "source": [
    "# S2"
   ]
  },
  {
   "cell_type": "code",
   "execution_count": null,
   "metadata": {
    "colab": {
     "base_uri": "https://localhost:8080/"
    },
    "id": "xs6GmbVHumug",
    "outputId": "5847566c-8693-47bf-dab5-ba1230de3fa2"
   },
   "outputs": [
    {
     "name": "stderr",
     "output_type": "stream",
     "text": [
      "100%|█████████████████████████████████████| 2.88G/2.88G [00:33<00:00, 91.9MiB/s]\n"
     ]
    }
   ],
   "source": [
    "# Load the model\n",
    "model = whisper.load_model(\"large\", device=device)"
   ]
  },
  {
   "cell_type": "code",
   "execution_count": null,
   "metadata": {
    "colab": {
     "base_uri": "https://localhost:8080/"
    },
    "id": "MVfsJxXfumug",
    "outputId": "7ea64dce-d811-49aa-aa8e-9ee6eb6bb1b2"
   },
   "outputs": [
    {
     "name": "stderr",
     "output_type": "stream",
     "text": [
      "1385it [2:00:12,  5.21s/it]\n"
     ]
    }
   ],
   "source": [
    "# Transcribe each chunk\n",
    "for index, row in tqdm(df_mapping.iterrows()):\n",
    "    # Transcribe audio file\n",
    "    result = model.transcribe(row['chunk_path'], task=\"translate\")\n",
    "    df_mapping.at[index, \"transcription\"] = result[\"text\"]\n",
    "\n",
    "# Save updated mapping with transcriptions\n",
    "df_mapping.to_csv(\"./audio_chunk_mapping_with_transcription.csv\", index=False)"
   ]
  },
  {
   "cell_type": "markdown",
   "metadata": {
    "id": "p0wVQhbfumuh"
   },
   "source": [
    "# S3"
   ]
  },
  {
   "cell_type": "markdown",
   "metadata": {},
   "source": [
    "### Editing the df to embed embeddings"
   ]
  },
  {
   "cell_type": "code",
   "execution_count": null,
   "metadata": {},
   "outputs": [
    {
     "data": {
      "text/html": [
       "<div>\n",
       "<style scoped>\n",
       "    .dataframe tbody tr th:only-of-type {\n",
       "        vertical-align: middle;\n",
       "    }\n",
       "\n",
       "    .dataframe tbody tr th {\n",
       "        vertical-align: top;\n",
       "    }\n",
       "\n",
       "    .dataframe thead th {\n",
       "        text-align: right;\n",
       "    }\n",
       "</style>\n",
       "<table border=\"1\" class=\"dataframe\">\n",
       "  <thead>\n",
       "    <tr style=\"text-align: right;\">\n",
       "      <th></th>\n",
       "      <th>audio_no</th>\n",
       "      <th>chunk_id</th>\n",
       "      <th>chunk_path</th>\n",
       "      <th>transcription</th>\n",
       "      <th>embedding_1</th>\n",
       "      <th>embedding_2</th>\n",
       "      <th>embedding_3</th>\n",
       "      <th>embedding_4</th>\n",
       "      <th>embedding_5</th>\n",
       "      <th>embedding_6</th>\n",
       "      <th>...</th>\n",
       "      <th>embedding_375</th>\n",
       "      <th>embedding_376</th>\n",
       "      <th>embedding_377</th>\n",
       "      <th>embedding_378</th>\n",
       "      <th>embedding_379</th>\n",
       "      <th>embedding_380</th>\n",
       "      <th>embedding_381</th>\n",
       "      <th>embedding_382</th>\n",
       "      <th>embedding_383</th>\n",
       "      <th>embedding_384</th>\n",
       "    </tr>\n",
       "  </thead>\n",
       "  <tbody>\n",
       "    <tr>\n",
       "      <th>0</th>\n",
       "      <td>278</td>\n",
       "      <td>0</td>\n",
       "      <td>./audio_chunks/audio_278_chunk_0.mp3</td>\n",
       "      <td>We are here to share our experiences with you...</td>\n",
       "      <td>0.043139</td>\n",
       "      <td>0.053966</td>\n",
       "      <td>0.036818</td>\n",
       "      <td>0.047007</td>\n",
       "      <td>0.024853</td>\n",
       "      <td>-0.034888</td>\n",
       "      <td>...</td>\n",
       "      <td>0.055317</td>\n",
       "      <td>0.061632</td>\n",
       "      <td>-0.106956</td>\n",
       "      <td>-0.027862</td>\n",
       "      <td>0.142631</td>\n",
       "      <td>-0.007118</td>\n",
       "      <td>-0.005574</td>\n",
       "      <td>0.028976</td>\n",
       "      <td>-0.047586</td>\n",
       "      <td>0.032412</td>\n",
       "    </tr>\n",
       "    <tr>\n",
       "      <th>1</th>\n",
       "      <td>278</td>\n",
       "      <td>1</td>\n",
       "      <td>./audio_chunks/audio_278_chunk_1.mp3</td>\n",
       "      <td>We should be strong. At first, the farmers of...</td>\n",
       "      <td>-0.004163</td>\n",
       "      <td>0.008130</td>\n",
       "      <td>-0.091433</td>\n",
       "      <td>-0.040648</td>\n",
       "      <td>-0.032317</td>\n",
       "      <td>-0.024731</td>\n",
       "      <td>...</td>\n",
       "      <td>0.040692</td>\n",
       "      <td>-0.018176</td>\n",
       "      <td>-0.019196</td>\n",
       "      <td>-0.006972</td>\n",
       "      <td>0.024714</td>\n",
       "      <td>-0.039926</td>\n",
       "      <td>-0.052108</td>\n",
       "      <td>0.002863</td>\n",
       "      <td>-0.020194</td>\n",
       "      <td>0.012154</td>\n",
       "    </tr>\n",
       "    <tr>\n",
       "      <th>2</th>\n",
       "      <td>278</td>\n",
       "      <td>2</td>\n",
       "      <td>./audio_chunks/audio_278_chunk_2.mp3</td>\n",
       "      <td>The Raita Rao of Suttamuttala has been separa...</td>\n",
       "      <td>0.036603</td>\n",
       "      <td>0.003586</td>\n",
       "      <td>-0.061841</td>\n",
       "      <td>0.042020</td>\n",
       "      <td>0.007202</td>\n",
       "      <td>-0.035289</td>\n",
       "      <td>...</td>\n",
       "      <td>0.031426</td>\n",
       "      <td>-0.017646</td>\n",
       "      <td>-0.023406</td>\n",
       "      <td>-0.068935</td>\n",
       "      <td>0.005543</td>\n",
       "      <td>0.013447</td>\n",
       "      <td>0.038017</td>\n",
       "      <td>-0.021588</td>\n",
       "      <td>-0.012747</td>\n",
       "      <td>0.047803</td>\n",
       "    </tr>\n",
       "    <tr>\n",
       "      <th>3</th>\n",
       "      <td>278</td>\n",
       "      <td>3</td>\n",
       "      <td>./audio_chunks/audio_278_chunk_3.mp3</td>\n",
       "      <td>In the village of Arelli, in survey number 59...</td>\n",
       "      <td>-0.011311</td>\n",
       "      <td>-0.010493</td>\n",
       "      <td>-0.050315</td>\n",
       "      <td>0.022067</td>\n",
       "      <td>0.023678</td>\n",
       "      <td>-0.033996</td>\n",
       "      <td>...</td>\n",
       "      <td>0.032218</td>\n",
       "      <td>0.009572</td>\n",
       "      <td>0.024307</td>\n",
       "      <td>0.062972</td>\n",
       "      <td>0.026778</td>\n",
       "      <td>-0.011161</td>\n",
       "      <td>-0.005104</td>\n",
       "      <td>0.032412</td>\n",
       "      <td>-0.048981</td>\n",
       "      <td>-0.073859</td>\n",
       "    </tr>\n",
       "    <tr>\n",
       "      <th>4</th>\n",
       "      <td>278</td>\n",
       "      <td>4</td>\n",
       "      <td>./audio_chunks/audio_278_chunk_4.mp3</td>\n",
       "      <td>we have done this pruning because the plant h...</td>\n",
       "      <td>0.004721</td>\n",
       "      <td>0.108863</td>\n",
       "      <td>-0.032003</td>\n",
       "      <td>-0.064745</td>\n",
       "      <td>0.045010</td>\n",
       "      <td>-0.040832</td>\n",
       "      <td>...</td>\n",
       "      <td>-0.006928</td>\n",
       "      <td>0.024223</td>\n",
       "      <td>0.053384</td>\n",
       "      <td>0.025787</td>\n",
       "      <td>-0.066563</td>\n",
       "      <td>0.009256</td>\n",
       "      <td>-0.058461</td>\n",
       "      <td>-0.018934</td>\n",
       "      <td>-0.062665</td>\n",
       "      <td>0.036947</td>\n",
       "    </tr>\n",
       "  </tbody>\n",
       "</table>\n",
       "<p>5 rows × 388 columns</p>\n",
       "</div>"
      ],
      "text/plain": [
       "   audio_no  chunk_id                            chunk_path  \\\n",
       "0       278         0  ./audio_chunks/audio_278_chunk_0.mp3   \n",
       "1       278         1  ./audio_chunks/audio_278_chunk_1.mp3   \n",
       "2       278         2  ./audio_chunks/audio_278_chunk_2.mp3   \n",
       "3       278         3  ./audio_chunks/audio_278_chunk_3.mp3   \n",
       "4       278         4  ./audio_chunks/audio_278_chunk_4.mp3   \n",
       "\n",
       "                                       transcription  embedding_1  \\\n",
       "0   We are here to share our experiences with you...     0.043139   \n",
       "1   We should be strong. At first, the farmers of...    -0.004163   \n",
       "2   The Raita Rao of Suttamuttala has been separa...     0.036603   \n",
       "3   In the village of Arelli, in survey number 59...    -0.011311   \n",
       "4   we have done this pruning because the plant h...     0.004721   \n",
       "\n",
       "   embedding_2  embedding_3  embedding_4  embedding_5  embedding_6  ...  \\\n",
       "0     0.053966     0.036818     0.047007     0.024853    -0.034888  ...   \n",
       "1     0.008130    -0.091433    -0.040648    -0.032317    -0.024731  ...   \n",
       "2     0.003586    -0.061841     0.042020     0.007202    -0.035289  ...   \n",
       "3    -0.010493    -0.050315     0.022067     0.023678    -0.033996  ...   \n",
       "4     0.108863    -0.032003    -0.064745     0.045010    -0.040832  ...   \n",
       "\n",
       "   embedding_375  embedding_376  embedding_377  embedding_378  embedding_379  \\\n",
       "0       0.055317       0.061632      -0.106956      -0.027862       0.142631   \n",
       "1       0.040692      -0.018176      -0.019196      -0.006972       0.024714   \n",
       "2       0.031426      -0.017646      -0.023406      -0.068935       0.005543   \n",
       "3       0.032218       0.009572       0.024307       0.062972       0.026778   \n",
       "4      -0.006928       0.024223       0.053384       0.025787      -0.066563   \n",
       "\n",
       "   embedding_380  embedding_381  embedding_382  embedding_383  embedding_384  \n",
       "0      -0.007118      -0.005574       0.028976      -0.047586       0.032412  \n",
       "1      -0.039926      -0.052108       0.002863      -0.020194       0.012154  \n",
       "2       0.013447       0.038017      -0.021588      -0.012747       0.047803  \n",
       "3      -0.011161      -0.005104       0.032412      -0.048981      -0.073859  \n",
       "4       0.009256      -0.058461      -0.018934      -0.062665       0.036947  \n",
       "\n",
       "[5 rows x 388 columns]"
      ]
     },
     "execution_count": 7,
     "metadata": {},
     "output_type": "execute_result"
    }
   ],
   "source": [
    "# Initialize the model\n",
    "model = SentenceTransformer(\"sentence-transformers/all-MiniLM-L6-v2\")\n",
    "\n",
    "sentences = df_mapping['transcription'].tolist()  # Adjust the slice as needed\n",
    "embeddings = model.encode(sentences)\n",
    "\n",
    "# Convert embeddings to a DataFrame with column names embedding_1 to embedding_384\n",
    "embedding_df = pd.DataFrame(embeddings, columns=[f'embedding_{i+1}' for i in range(embeddings.shape[1])])\n",
    "\n",
    "# Concatenate the embeddings DataFrame with the original DataFrame\n",
    "df_mapp = pd.concat([df_mapping, embedding_df], axis=1)\n",
    "\n",
    "# Save updated mapping with transcriptions\n",
    "df_mapp.to_csv(\"./audio_chunk_mapping_with_transcription_embeddings.csv\", index=False)\n",
    "\n",
    "df_mapp.head()"
   ]
  },
  {
   "cell_type": "markdown",
   "metadata": {},
   "source": [
    "### Directly using the sentences instead of embeddings"
   ]
  },
  {
   "cell_type": "code",
   "execution_count": null,
   "metadata": {
    "colab": {
     "base_uri": "https://localhost:8080/"
    },
    "id": "ZEW5qPtbumui",
    "outputId": "6ad5aa86-282a-4dc0-df4d-6722369b36d6"
   },
   "outputs": [],
   "source": [
    "from sentence_transformers import SentenceTransformer\n",
    "\n",
    "model = SentenceTransformer(\"sentence-transformers/all-MiniLM-L6-v2\")\n",
    "\n",
    "sentences = df_mapping['transcription'].tolist()\n",
    "embeddings = model.encode(sentences)\n",
    "result = model.transcribe(audio_path, task=\"translate\")\n",
    "embedding_query = model.encode(result['text'])\n",
    "\n",
    "similarities = model.similarity(embeddings, embedding_query)"
   ]
  },
  {
   "cell_type": "markdown",
   "metadata": {
    "id": "Nw9M-Bcsumui"
   },
   "source": [
    "# S4"
   ]
  },
  {
   "cell_type": "code",
   "execution_count": null,
   "metadata": {
    "colab": {
     "base_uri": "https://localhost:8080/"
    },
    "id": "bjUXsNo5umui",
    "outputId": "a06420b7-f20b-4c7f-a1ac-83289caed392"
   },
   "outputs": [
    {
     "name": "stdout",
     "output_type": "stream",
     "text": [
      "58\n"
     ]
    }
   ],
   "source": [
    "index_of_most_similar_item = int(similarities.argmax())\n",
    "print(index_of_most_similar_item)"
   ]
  }
 ],
 "metadata": {
  "accelerator": "GPU",
  "colab": {
   "gpuType": "T4",
   "provenance": []
  },
  "kernelspec": {
   "display_name": "Python 3",
   "name": "python3"
  },
  "language_info": {
   "codemirror_mode": {
    "name": "ipython",
    "version": 3
   },
   "file_extension": ".py",
   "mimetype": "text/x-python",
   "name": "python",
   "nbconvert_exporter": "python",
   "pygments_lexer": "ipython3",
   "version": "3.10.12"
  }
 },
 "nbformat": 4,
 "nbformat_minor": 0
}
